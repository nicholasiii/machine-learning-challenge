{
 "cells": [
  {
   "cell_type": "code",
   "execution_count": 109,
   "metadata": {},
   "outputs": [],
   "source": [
    "#!pip install pandas\n",
    "#!pip install sklearn\n",
    "import numpy as np\n",
    "import pandas as pd\n",
    "from sklearn.model_selection import train_test_split\n",
    "from sklearn.ensemble import RandomForestClassifier\n"
   ]
  },
  {
   "cell_type": "code",
   "execution_count": 194,
   "metadata": {},
   "outputs": [
    {
     "name": "stdout",
     "output_type": "stream",
     "text": [
      "(9565, 5) (9565, 1)\n",
      "[[1.]\n",
      " [1.]\n",
      " [0.]\n",
      " ...\n",
      " [0.]\n",
      " [0.]\n",
      " [0.]]\n"
     ]
    }
   ],
   "source": [
    "#Load and Preprocess\n",
    "data = pd.read_csv('cumulative2.csv')\n",
    "\n",
    "X = data.drop(\"koi_disposition_CONFIRMED\", axis=1)\n",
    "X = X.drop(\"koi_disposition_CANDIDATE\", axis=1)\n",
    "X = X.drop(\"koi_disposition_FALSE POSITIVE\", axis=1)\n",
    "X=X.drop(\"kepid\", axis=1)\n",
    "X=X.drop(\"rowid\", axis=1)\n",
    "X=X.drop(\"'\", axis=1)\n",
    "X=X.drop(\"koi_tce_delivname\", axis=1)\n",
    "X=X.fillna(value=0)\n",
    "\n",
    "#X=data[['koi_model_snr','koi_steff_err1','koi_steff_err2','koi_prad','koi_duration_err1']]\n",
    "#X=X.fillna(value=0)\n",
    "\n",
    "#X = X.drop('koi_depth', axis=1)\n",
    "#X = X.drop('koi_srad_err2', axis=1)\n",
    "#X = X.drop('koi_duration_err1', axis=1)\n",
    "#X = X.drop('koi_prad', axis=1)\n",
    "#X = X.drop('koi_model_snr', axis=1)\n",
    "#X = X.drop('koi_steff_err1', axis=1)\n",
    "#X = X.drop('koi_steff_err2', axis=1)\n",
    "#X = X.drop('koi_duration_err2', axis=1)\n",
    "\n",
    "# 'koi_srad_err2','koi_slogg'\n",
    "# 'koi_depth',koi_duration_err2','koi_prad_err2'\n",
    "\n",
    "y = data[\"koi_disposition_CONFIRMED\"].values.reshape(-1, 1)\n",
    "y = np.nan_to_num(y)\n",
    "\n",
    "print(X.shape, y.shape)\n",
    "print(y)"
   ]
  },
  {
   "cell_type": "code",
   "execution_count": 195,
   "metadata": {},
   "outputs": [
    {
     "name": "stdout",
     "output_type": "stream",
     "text": [
      "Training Features Shape: (7173, 5)\n",
      "Training Labels Shape: (7173, 1)\n",
      "Testing Features Shape: (2392, 5)\n",
      "Testing Labels Shape: (2392, 1)\n"
     ]
    }
   ],
   "source": [
    "train_features, test_features, train_labels, test_labels = train_test_split(X, y, test_size = 0.25, random_state = 42)\n",
    "print('Training Features Shape:', train_features.shape)\n",
    "print('Training Labels Shape:', train_labels.shape)\n",
    "print('Testing Features Shape:', test_features.shape)\n",
    "print('Testing Labels Shape:', test_labels.shape)"
   ]
  },
  {
   "cell_type": "code",
   "execution_count": 196,
   "metadata": {},
   "outputs": [],
   "source": [
    "# Instantiate model with 1000 decision trees\n",
    "rf = RandomForestRegressor(n_estimators = 1000, random_state = 42)\n",
    "# Train the model on training data\n",
    "rf.fit(train_features, train_labels.ravel());\n"
   ]
  },
  {
   "cell_type": "code",
   "execution_count": 197,
   "metadata": {},
   "outputs": [
    {
     "name": "stdout",
     "output_type": "stream",
     "text": [
      "Mean Absolute Error: 0.37\n"
     ]
    }
   ],
   "source": [
    "# Use the forest's predict method on the test data\n",
    "predictions = rf.predict(test_features)\n",
    "# Calculate the absolute errors\n",
    "errors = abs(predictions - test_labels)\n",
    "# Print out the mean absolute error (mae)\n",
    "print('Mean Absolute Error:', round(np.mean(errors), 2))"
   ]
  },
  {
   "cell_type": "code",
   "execution_count": 198,
   "metadata": {},
   "outputs": [
    {
     "data": {
      "text/plain": [
       "0.5407004499326005"
      ]
     },
     "execution_count": 198,
     "metadata": {},
     "output_type": "execute_result"
    }
   ],
   "source": [
    "# Calculate error 0.6459536975185585/0.5467418746179111 w7/0.5462037597691328w6/0.5426689531696759w5/0.5433842211615499bk6\n",
    "rscore=rf.score(test_features,test_labels)\n",
    "rscore"
   ]
  },
  {
   "cell_type": "code",
   "execution_count": 193,
   "metadata": {},
   "outputs": [
    {
     "name": "stdout",
     "output_type": "stream",
     "text": [
      "['koi_fpflag_nt', 'koi_fpflag_ss', 'koi_fpflag_co', 'koi_fpflag_ec', 'koi_period', 'koi_period_err1', 'koi_period_err2', 'koi_time0bk', 'koi_time0bk_err1', 'koi_time0bk_err2', 'koi_impact', 'koi_impact_err1', 'koi_impact_err2', 'koi_duration', 'koi_duration_err2', 'koi_depth', 'koi_depth_err1', 'koi_depth_err2', 'koi_prad', 'koi_prad_err1', 'koi_prad_err2', 'koi_teq', 'koi_teq_err1', 'koi_teq_err2', 'koi_insol', 'koi_insol_err1', 'koi_insol_err2', 'koi_tce_plnt_num', 'koi_steff', 'koi_slogg', 'koi_slogg_err1', 'koi_slogg_err2', 'koi_srad', 'koi_srad_err1', 'koi_srad_err2', 'ra', 'dec', 'koi_kepmag']\n"
     ]
    }
   ],
   "source": [
    "#!pip install pydot\n",
    "# Import tools needed for visualization\n",
    "from sklearn.tree import export_graphviz\n",
    "import pydot\n",
    "import numpy as np\n",
    "\n",
    "feature_list = list(X.columns)\n",
    "print(feature_list);\n",
    "\n",
    "# Pull out one tree from the forest\n",
    "tree = rf.estimators_[5]\n",
    "# Export the image to a dot file\n",
    "export_graphviz(tree, out_file = 'tree.dot', feature_names = feature_list, rounded = True, filled=True, proportion = False, precision = 1)\n",
    "# Use dot file to create a graph\n",
    "(graph, ) = pydot.graph_from_dot_file('tree.dot')\n",
    "# Write graph to a png file\n",
    "graph.write_png('tree.png')"
   ]
  },
  {
   "cell_type": "code",
   "execution_count": null,
   "metadata": {},
   "outputs": [],
   "source": []
  }
 ],
 "metadata": {
  "kernelspec": {
   "display_name": "Python 3",
   "language": "python",
   "name": "python3"
  },
  "language_info": {
   "codemirror_mode": {
    "name": "ipython",
    "version": 3
   },
   "file_extension": ".py",
   "mimetype": "text/x-python",
   "name": "python",
   "nbconvert_exporter": "python",
   "pygments_lexer": "ipython3",
   "version": "3.7.4"
  }
 },
 "nbformat": 4,
 "nbformat_minor": 2
}
